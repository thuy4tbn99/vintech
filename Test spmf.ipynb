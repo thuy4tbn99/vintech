{
 "cells": [
  {
   "cell_type": "code",
   "execution_count": 2,
   "metadata": {},
   "outputs": [],
   "source": [
    "from spmf import Spmf"
   ]
  },
  {
   "cell_type": "code",
   "execution_count": 8,
   "metadata": {},
   "outputs": [
    {
     "name": "stdout",
     "output_type": "stream",
     "text": [
      ">/mnt/e/DATA/uet/Statiscal data processing/Vintech_thTrong/spmf.jar\n",
      "An error while trying to run the algorithm. \n",
      " ERROR MESSAGE = java.lang.ArrayIndexOutOfBoundsException: 1\n",
      "\n"
     ]
    }
   ],
   "source": [
    "spmf = Spmf(\"PrefixSpan\", input_filename=\"./test_files/transaction.txt\",\n",
    "            output_filename=\"./output/output_PrefixSpan.txt\", arguments=[0.03])\n",
    "spmf.run()\n",
    "# print(spmf.to_pandas_dataframe(pickle=True))\n",
    "\n",
    "# spmf.to_csv(\"output.csv\")"
   ]
  },
  {
   "cell_type": "code",
   "execution_count": 5,
   "metadata": {},
   "outputs": [
    {
     "name": "stdout",
     "output_type": "stream",
     "text": [
      ">/mnt/e/DATA/uet/Statiscal data processing/Vintech_thTrong/spmf.jar\n",
      "=============  PREFIXSPAN 0.99-2016 - STATISTICS =============\n",
      " Total time ~ 237 ms\n",
      " Frequent sequences count : 0\n",
      " Max memory (mb) : 0.0\n",
      " minsup = 11095 sequences.\n",
      " Pattern count : 0\n",
      "===================================================\n",
      "\n",
      "\n"
     ]
    },
    {
     "data": {
      "text/html": [
       "<div>\n",
       "<style scoped>\n",
       "    .dataframe tbody tr th:only-of-type {\n",
       "        vertical-align: middle;\n",
       "    }\n",
       "\n",
       "    .dataframe tbody tr th {\n",
       "        vertical-align: top;\n",
       "    }\n",
       "\n",
       "    .dataframe thead th {\n",
       "        text-align: right;\n",
       "    }\n",
       "</style>\n",
       "<table border=\"1\" class=\"dataframe\">\n",
       "  <thead>\n",
       "    <tr style=\"text-align: right;\">\n",
       "      <th></th>\n",
       "    </tr>\n",
       "  </thead>\n",
       "  <tbody>\n",
       "  </tbody>\n",
       "</table>\n",
       "</div>"
      ],
      "text/plain": [
       "Empty DataFrame\n",
       "Columns: []\n",
       "Index: []"
      ]
     },
     "execution_count": 5,
     "metadata": {},
     "output_type": "execute_result"
    }
   ],
   "source": [
    "spmf.run()\n",
    "df = spmf.to_pandas_dataframe()\n",
    "df"
   ]
  },
  {
   "cell_type": "markdown",
   "metadata": {},
   "source": [
    "## FPGrowth_association_rules"
   ]
  },
  {
   "cell_type": "code",
   "execution_count": 33,
   "metadata": {},
   "outputs": [
    {
     "name": "stdout",
     "output_type": "stream",
     "text": [
      "minsup:  0.02\n",
      "minconf: \n",
      "0.02\n",
      ">/mnt/e/DATA/uet/Statiscal data processing/Vintech_thTrong/spmf.jar\n",
      "=============  FP-GROWTH 2.42 - STATS =============\n",
      " Transactions count from database : 22190\n",
      " Max memory usage: 17.967239379882812 mb \n",
      " Frequent itemsets count : 1301\n",
      " Total time ~ 420 ms\n",
      "===================================================\n",
      "=============  ASSOCIATION RULE GENERATION v2.19- STATS =============\n",
      " Number of association rules generated : 435\n",
      " Total time ~ 19 ms\n",
      "===================================================\n",
      "\n",
      "minconf: \n",
      "0.01\n",
      ">/mnt/e/DATA/uet/Statiscal data processing/Vintech_thTrong/spmf.jar\n",
      "=============  FP-GROWTH 2.42 - STATS =============\n",
      " Transactions count from database : 22190\n",
      " Max memory usage: 17.8392333984375 mb \n",
      " Frequent itemsets count : 1301\n",
      " Total time ~ 424 ms\n",
      "===================================================\n",
      "=============  ASSOCIATION RULE GENERATION v2.19- STATS =============\n",
      " Number of association rules generated : 446\n",
      " Total time ~ 22 ms\n",
      "===================================================\n",
      "\n",
      "minconf: \n",
      "0.009\n",
      ">/mnt/e/DATA/uet/Statiscal data processing/Vintech_thTrong/spmf.jar\n",
      "=============  FP-GROWTH 2.42 - STATS =============\n",
      " Transactions count from database : 22190\n",
      " Max memory usage: 17.87041473388672 mb \n",
      " Frequent itemsets count : 1301\n",
      " Total time ~ 407 ms\n",
      "===================================================\n",
      "=============  ASSOCIATION RULE GENERATION v2.19- STATS =============\n",
      " Number of association rules generated : 446\n",
      " Total time ~ 16 ms\n",
      "===================================================\n",
      "\n",
      "minconf: \n",
      "0.008\n",
      ">/mnt/e/DATA/uet/Statiscal data processing/Vintech_thTrong/spmf.jar\n",
      "=============  FP-GROWTH 2.42 - STATS =============\n",
      " Transactions count from database : 22190\n",
      " Max memory usage: 18.065353393554688 mb \n",
      " Frequent itemsets count : 1301\n",
      " Total time ~ 465 ms\n",
      "===================================================\n",
      "=============  ASSOCIATION RULE GENERATION v2.19- STATS =============\n",
      " Number of association rules generated : 446\n",
      " Total time ~ 17 ms\n",
      "===================================================\n",
      "\n",
      "minsup:  0.01\n",
      "minconf: \n",
      "0.02\n",
      ">/mnt/e/DATA/uet/Statiscal data processing/Vintech_thTrong/spmf.jar\n",
      "=============  FP-GROWTH 2.42 - STATS =============\n",
      " Transactions count from database : 22190\n",
      " Max memory usage: 48.71708679199219 mb \n",
      " Frequent itemsets count : 3192\n",
      " Total time ~ 776 ms\n",
      "===================================================\n",
      "=============  ASSOCIATION RULE GENERATION v2.19- STATS =============\n",
      " Number of association rules generated : 2818\n",
      " Total time ~ 38 ms\n",
      "===================================================\n",
      "\n",
      "minconf: \n",
      "0.01\n",
      ">/mnt/e/DATA/uet/Statiscal data processing/Vintech_thTrong/spmf.jar\n",
      "=============  FP-GROWTH 2.42 - STATS =============\n",
      " Transactions count from database : 22190\n",
      " Max memory usage: 48.793800354003906 mb \n",
      " Frequent itemsets count : 3192\n",
      " Total time ~ 727 ms\n",
      "===================================================\n",
      "=============  ASSOCIATION RULE GENERATION v2.19- STATS =============\n",
      " Number of association rules generated : 2901\n",
      " Total time ~ 33 ms\n",
      "===================================================\n",
      "\n",
      "minconf: \n",
      "0.009\n",
      ">/mnt/e/DATA/uet/Statiscal data processing/Vintech_thTrong/spmf.jar\n",
      "=============  FP-GROWTH 2.42 - STATS =============\n",
      " Transactions count from database : 22190\n",
      " Max memory usage: 48.90092468261719 mb \n",
      " Frequent itemsets count : 3192\n",
      " Total time ~ 735 ms\n",
      "===================================================\n",
      "=============  ASSOCIATION RULE GENERATION v2.19- STATS =============\n",
      " Number of association rules generated : 2913\n",
      " Total time ~ 47 ms\n",
      "===================================================\n",
      "\n",
      "minconf: \n",
      "0.008\n",
      ">/mnt/e/DATA/uet/Statiscal data processing/Vintech_thTrong/spmf.jar\n",
      "=============  FP-GROWTH 2.42 - STATS =============\n",
      " Transactions count from database : 22190\n",
      " Max memory usage: 48.740882873535156 mb \n",
      " Frequent itemsets count : 3192\n",
      " Total time ~ 774 ms\n",
      "===================================================\n",
      "=============  ASSOCIATION RULE GENERATION v2.19- STATS =============\n",
      " Number of association rules generated : 2930\n",
      " Total time ~ 55 ms\n",
      "===================================================\n",
      "\n",
      "minsup:  0.009\n",
      "minconf: \n",
      "0.02\n",
      ">/mnt/e/DATA/uet/Statiscal data processing/Vintech_thTrong/spmf.jar\n",
      "=============  FP-GROWTH 2.42 - STATS =============\n",
      " Transactions count from database : 22190\n",
      " Max memory usage: 75.43212890625 mb \n",
      " Frequent itemsets count : 3419\n",
      " Total time ~ 738 ms\n",
      "===================================================\n",
      "=============  ASSOCIATION RULE GENERATION v2.19- STATS =============\n",
      " Number of association rules generated : 3068\n",
      " Total time ~ 34 ms\n",
      "===================================================\n",
      "\n",
      "minconf: \n",
      "0.01\n",
      ">/mnt/e/DATA/uet/Statiscal data processing/Vintech_thTrong/spmf.jar\n",
      "=============  FP-GROWTH 2.42 - STATS =============\n",
      " Transactions count from database : 22190\n",
      " Max memory usage: 75.47985076904297 mb \n",
      " Frequent itemsets count : 3419\n",
      " Total time ~ 832 ms\n",
      "===================================================\n",
      "=============  ASSOCIATION RULE GENERATION v2.19- STATS =============\n",
      " Number of association rules generated : 3163\n",
      " Total time ~ 37 ms\n",
      "===================================================\n",
      "\n",
      "minconf: \n",
      "0.009\n",
      ">/mnt/e/DATA/uet/Statiscal data processing/Vintech_thTrong/spmf.jar\n",
      "=============  FP-GROWTH 2.42 - STATS =============\n",
      " Transactions count from database : 22190\n",
      " Max memory usage: 75.4780044555664 mb \n",
      " Frequent itemsets count : 3419\n",
      " Total time ~ 914 ms\n",
      "===================================================\n",
      "=============  ASSOCIATION RULE GENERATION v2.19- STATS =============\n",
      " Number of association rules generated : 3180\n",
      " Total time ~ 34 ms\n",
      "===================================================\n",
      "\n",
      "minconf: \n",
      "0.008\n",
      ">/mnt/e/DATA/uet/Statiscal data processing/Vintech_thTrong/spmf.jar\n",
      "=============  FP-GROWTH 2.42 - STATS =============\n",
      " Transactions count from database : 22190\n",
      " Max memory usage: 75.43141174316406 mb \n",
      " Frequent itemsets count : 3419\n",
      " Total time ~ 915 ms\n",
      "===================================================\n",
      "=============  ASSOCIATION RULE GENERATION v2.19- STATS =============\n",
      " Number of association rules generated : 3194\n",
      " Total time ~ 37 ms\n",
      "===================================================\n",
      "\n",
      "minsup:  0.008\n",
      "minconf: \n",
      "0.02\n",
      ">/mnt/e/DATA/uet/Statiscal data processing/Vintech_thTrong/spmf.jar\n",
      "=============  FP-GROWTH 2.42 - STATS =============\n",
      " Transactions count from database : 22190\n",
      " Max memory usage: 112.55741882324219 mb \n",
      " Frequent itemsets count : 3705\n",
      " Total time ~ 913 ms\n",
      "===================================================\n",
      "=============  ASSOCIATION RULE GENERATION v2.19- STATS =============\n",
      " Number of association rules generated : 3496\n",
      " Total time ~ 41 ms\n",
      "===================================================\n",
      "\n",
      "minconf: \n",
      "0.01\n",
      ">/mnt/e/DATA/uet/Statiscal data processing/Vintech_thTrong/spmf.jar\n",
      "=============  FP-GROWTH 2.42 - STATS =============\n",
      " Transactions count from database : 22190\n",
      " Max memory usage: 110.3313980102539 mb \n",
      " Frequent itemsets count : 3705\n",
      " Total time ~ 973 ms\n",
      "===================================================\n",
      "=============  ASSOCIATION RULE GENERATION v2.19- STATS =============\n",
      " Number of association rules generated : 3622\n",
      " Total time ~ 34 ms\n",
      "===================================================\n",
      "\n",
      "minconf: \n",
      "0.009\n",
      ">/mnt/e/DATA/uet/Statiscal data processing/Vintech_thTrong/spmf.jar\n",
      "=============  FP-GROWTH 2.42 - STATS =============\n",
      " Transactions count from database : 22190\n",
      " Max memory usage: 112.46580505371094 mb \n",
      " Frequent itemsets count : 3705\n",
      " Total time ~ 910 ms\n",
      "===================================================\n",
      "=============  ASSOCIATION RULE GENERATION v2.19- STATS =============\n",
      " Number of association rules generated : 3636\n",
      " Total time ~ 39 ms\n",
      "===================================================\n",
      "\n",
      "minconf: \n",
      "0.008\n",
      ">/mnt/e/DATA/uet/Statiscal data processing/Vintech_thTrong/spmf.jar\n",
      "=============  FP-GROWTH 2.42 - STATS =============\n",
      " Transactions count from database : 22190\n",
      " Max memory usage: 110.31610107421875 mb \n",
      " Frequent itemsets count : 3705\n",
      " Total time ~ 944 ms\n",
      "===================================================\n",
      "=============  ASSOCIATION RULE GENERATION v2.19- STATS =============\n",
      " Number of association rules generated : 3652\n",
      " Total time ~ 39 ms\n",
      "===================================================\n",
      "\n"
     ]
    }
   ],
   "source": [
    "minsup = [0.02, 0.01, 0.009, 0.008]\n",
    "minconf = [0.02, 0.01, 0.009, 0.008]\n",
    "arguments =[[], [], [], []]\n",
    "for i in range(len(minsup)):\n",
    "    print('minsup: ',minsup[i])\n",
    "    arguments[i].append(minsup[i])\n",
    "    for j in range(len(minconf)):\n",
    "        print('minconf: ')\n",
    "        print(minconf[j])\n",
    "        arguments[i].append(minconf[j])\n",
    "        spmf = Spmf(\"FPGrowth_association_rules\", input_filename=\"./test_files/transaction.txt\",\n",
    "                    output_filename=\"./output/output_FPGrowth.txt\", arguments=arguments[i])\n",
    "        spmf.run()\n",
    "        del arguments[i][1]\n",
    "    "
   ]
  },
  {
   "cell_type": "code",
   "execution_count": 90,
   "metadata": {},
   "outputs": [
    {
     "name": "stdout",
     "output_type": "stream",
     "text": [
      ">/mnt/e/DATA/uet/Statiscal data processing/Vintech_thTrong/spmf.jar\n",
      "=============  FP-GROWTH 2.42 - STATS =============\n",
      " Transactions count from database : 22190\n",
      " Max memory usage: 54.28803253173828 mb \n",
      " Frequent itemsets count : 3192\n",
      " Total time ~ 711 ms\n",
      "===================================================\n",
      "=============  ASSOCIATION RULE GENERATION v2.19- STATS =============\n",
      " Number of association rules generated : 2901\n",
      " Total time ~ 37 ms\n",
      "===================================================\n",
      "Post-processing to show result in terms of string values.\n",
      "Post-processing completed.\n",
      "\n"
     ]
    }
   ],
   "source": [
    "spmf = Spmf(\"FPGrowth_association_rules\", input_filename=\"./test_files/transaction_label.txt\",\n",
    "                    output_filename=\"./output/output_FPGrowth_label.txt\", arguments=[0.01, 0.01])\n",
    "spmf.run()"
   ]
  },
  {
   "cell_type": "markdown",
   "metadata": {},
   "source": [
    "## FPGrowth_association_rules_with_lift"
   ]
  },
  {
   "cell_type": "code",
   "execution_count": 51,
   "metadata": {},
   "outputs": [
    {
     "name": "stdout",
     "output_type": "stream",
     "text": [
      ">/mnt/e/DATA/uet/Statiscal data processing/Vintech_thTrong/spmf.jar\n",
      "=============  FP-GROWTH 2.42 - STATS =============\n",
      " Transactions count from database : 22190\n",
      " Max memory usage: 112.47773742675781 mb \n",
      " Frequent itemsets count : 3705\n",
      " Total time ~ 810 ms\n",
      "===================================================\n",
      "=============  ASSOCIATION RULE GENERATION v2.19- STATS =============\n",
      " Number of association rules generated : 3439\n",
      " Total time ~ 35 ms\n",
      "===================================================\n",
      "\n"
     ]
    }
   ],
   "source": [
    "spmf = Spmf(\"FPGrowth_association_rules_with_lift\", input_filename=\"./test_files/transaction.txt\",\n",
    "            output_filename=\"./output/output_FPGrowth_lift.txt\", arguments=[0.008, 0.01, 1])\n",
    "spmf.run()"
   ]
  },
  {
   "cell_type": "code",
   "execution_count": 32,
   "metadata": {},
   "outputs": [
    {
     "name": "stdout",
     "output_type": "stream",
     "text": [
      ">/mnt/e/DATA/uet/Statiscal data processing/Vintech_thTrong/spmf.jar\n",
      "=============  FP-GROWTH 2.42 - STATS =============\n",
      " Transactions count from database : 6\n",
      " Max memory usage: 10.1668701171875 mb \n",
      " Frequent itemsets count : 19\n",
      " Total time ~ 9 ms\n",
      "===================================================\n",
      "=============  ASSOCIATION RULE GENERATION v2.19- STATS =============\n",
      " Number of association rules generated : 23\n",
      " Total time ~ 3 ms\n",
      "===================================================\n",
      "\n",
      "support extraction failed\n"
     ]
    },
    {
     "ename": "ValueError",
     "evalue": "invalid literal for int() with base 10: '==>'",
     "output_type": "error",
     "traceback": [
      "\u001b[0;31m---------------------------------------------------------------------------\u001b[0m",
      "\u001b[0;31mValueError\u001b[0m                                Traceback (most recent call last)",
      "\u001b[0;32m<ipython-input-32-ad3f35dc0921>\u001b[0m in \u001b[0;36m<module>\u001b[0;34m\u001b[0m\n\u001b[1;32m      1\u001b[0m \u001b[0mspmf\u001b[0m\u001b[0;34m.\u001b[0m\u001b[0mrun\u001b[0m\u001b[0;34m(\u001b[0m\u001b[0;34m)\u001b[0m\u001b[0;34m\u001b[0m\u001b[0;34m\u001b[0m\u001b[0m\n\u001b[0;32m----> 2\u001b[0;31m \u001b[0mdf\u001b[0m \u001b[0;34m=\u001b[0m \u001b[0mspmf\u001b[0m\u001b[0;34m.\u001b[0m\u001b[0mto_pandas_dataframe\u001b[0m\u001b[0;34m(\u001b[0m\u001b[0;34m)\u001b[0m\u001b[0;34m\u001b[0m\u001b[0;34m\u001b[0m\u001b[0m\n\u001b[0m\u001b[1;32m      3\u001b[0m \u001b[0mdf\u001b[0m\u001b[0;34m\u001b[0m\u001b[0;34m\u001b[0m\u001b[0m\n",
      "\u001b[0;32m~/miniconda3/envs/ml/lib/python3.8/site-packages/spmf/__init__.py\u001b[0m in \u001b[0;36mto_pandas_dataframe\u001b[0;34m(self, pickle)\u001b[0m\n\u001b[1;32m    145\u001b[0m             \u001b[0msup\u001b[0m \u001b[0;34m=\u001b[0m \u001b[0msup\u001b[0m\u001b[0;34m[\u001b[0m\u001b[0;36m1\u001b[0m\u001b[0;34m]\u001b[0m\u001b[0;34m\u001b[0m\u001b[0;34m\u001b[0m\u001b[0m\n\u001b[1;32m    146\u001b[0m \u001b[0;34m\u001b[0m\u001b[0m\n\u001b[0;32m--> 147\u001b[0;31m             \u001b[0mpatterns_dict_list\u001b[0m\u001b[0;34m.\u001b[0m\u001b[0mappend\u001b[0m\u001b[0;34m(\u001b[0m\u001b[0;34m{\u001b[0m\u001b[0;34m'pattern'\u001b[0m\u001b[0;34m:\u001b[0m \u001b[0mpattern\u001b[0m\u001b[0;34m,\u001b[0m \u001b[0;34m'sup'\u001b[0m\u001b[0;34m:\u001b[0m \u001b[0mint\u001b[0m\u001b[0;34m(\u001b[0m\u001b[0msup\u001b[0m\u001b[0;34m)\u001b[0m\u001b[0;34m}\u001b[0m\u001b[0;34m)\u001b[0m\u001b[0;34m\u001b[0m\u001b[0;34m\u001b[0m\u001b[0m\n\u001b[0m\u001b[1;32m    148\u001b[0m \u001b[0;34m\u001b[0m\u001b[0m\n\u001b[1;32m    149\u001b[0m         \u001b[0mdf\u001b[0m \u001b[0;34m=\u001b[0m \u001b[0mpd\u001b[0m\u001b[0;34m.\u001b[0m\u001b[0mDataFrame\u001b[0m\u001b[0;34m(\u001b[0m\u001b[0mpatterns_dict_list\u001b[0m\u001b[0;34m)\u001b[0m\u001b[0;34m\u001b[0m\u001b[0;34m\u001b[0m\u001b[0m\n",
      "\u001b[0;31mValueError\u001b[0m: invalid literal for int() with base 10: '==>'"
     ]
    }
   ],
   "source": [
    "spmf.run()\n",
    "df = spmf.to_pandas_dataframe()\n",
    "df"
   ]
  },
  {
   "cell_type": "markdown",
   "metadata": {},
   "source": [
    "## Mining the Top-K Association Rules"
   ]
  },
  {
   "cell_type": "code",
   "execution_count": 56,
   "metadata": {},
   "outputs": [
    {
     "name": "stdout",
     "output_type": "stream",
     "text": [
      "minsup:  10\n",
      "minconf: \n",
      "0.01\n",
      ">/mnt/e/DATA/uet/Statiscal data processing/Vintech_thTrong/spmf.jar\n",
      "=============  TOP-K RULES SPMF v.2.10 - STATS =============\n",
      "Minsup : 476\n",
      "Rules count: 10\n",
      "Memory : 133.86299896240234 mb\n",
      "Total time : 296 ms\n",
      "===================================================\n",
      "\n",
      "minsup:  100\n",
      "minconf: \n",
      "0.01\n",
      ">/mnt/e/DATA/uet/Statiscal data processing/Vintech_thTrong/spmf.jar\n",
      "=============  TOP-K RULES SPMF v.2.10 - STATS =============\n",
      "Minsup : 298\n",
      "Rules count: 100\n",
      "Memory : 287.4479751586914 mb\n",
      "Total time : 817 ms\n",
      "===================================================\n",
      "\n",
      "minsup:  1000\n",
      "minconf: \n",
      "0.01\n",
      ">/mnt/e/DATA/uet/Statiscal data processing/Vintech_thTrong/spmf.jar\n",
      "=============  TOP-K RULES SPMF v.2.10 - STATS =============\n",
      "Minsup : 160\n",
      "Rules count: 1000\n",
      "Memory : 1075.4353561401367 mb\n",
      "Total time : 3803 ms\n",
      "===================================================\n",
      "\n",
      "minsup:  5000\n",
      "minconf: \n",
      "0.01\n",
      ">/mnt/e/DATA/uet/Statiscal data processing/Vintech_thTrong/spmf.jar\n",
      "=============  TOP-K RULES SPMF v.2.10 - STATS =============\n",
      "Minsup : 102\n",
      "Rules count: 5000\n",
      "Memory : 1416.0560836791992 mb\n",
      "Total time : 8721 ms\n",
      "===================================================\n",
      "\n"
     ]
    }
   ],
   "source": [
    "minsup = [10, 100, 1000, 5000]\n",
    "minconf = [0.01]\n",
    "arguments =[[], [], [], []]\n",
    "for i in range(len(minsup)):\n",
    "    print('minsup: ',minsup[i])\n",
    "    arguments[i].append(minsup[i])\n",
    "    for j in range(len(minconf)):\n",
    "        print('minconf: ')\n",
    "        print(minconf[j])\n",
    "        arguments[i].append(minconf[j])\n",
    "        spmf = Spmf(\"TopKRules\", input_filename=\"./test_files/transaction.txt\",\n",
    "                    output_filename=\"./output/output_TopKRules.txt\", arguments=arguments[i])\n",
    "        spmf.run()\n",
    "        del arguments[i][1]"
   ]
  },
  {
   "cell_type": "code",
   "execution_count": 55,
   "metadata": {},
   "outputs": [
    {
     "name": "stdout",
     "output_type": "stream",
     "text": [
      ">/mnt/e/DATA/uet/Statiscal data processing/Vintech_thTrong/spmf.jar\n",
      "=============  TOP-K RULES SPMF v.2.10 - STATS =============\n",
      "Minsup : 160\n",
      "Rules count: 1000\n",
      "Memory : 1075.5212326049805 mb\n",
      "Total time : 3624 ms\n",
      "===================================================\n",
      "\n"
     ]
    }
   ],
   "source": [
    "spmf = Spmf(\"TopKRules\", input_filename=\"./test_files/transaction.txt\",\n",
    "            output_filename=\"./output/output_TopKRules.txt\", arguments=[1000, 0.01])\n",
    "spmf.run()"
   ]
  },
  {
   "cell_type": "code",
   "execution_count": 57,
   "metadata": {
    "collapsed": true
   },
   "outputs": [
    {
     "ename": "KeyboardInterrupt",
     "evalue": "",
     "output_type": "error",
     "traceback": [
      "\u001b[0;31m---------------------------------------------------------------------------\u001b[0m",
      "\u001b[0;31mKeyboardInterrupt\u001b[0m                         Traceback (most recent call last)",
      "\u001b[0;32m<ipython-input-57-b902bb90c941>\u001b[0m in \u001b[0;36m<module>\u001b[0;34m\u001b[0m\n\u001b[1;32m      1\u001b[0m \u001b[0;31m#dataframe test\u001b[0m\u001b[0;34m\u001b[0m\u001b[0;34m\u001b[0m\u001b[0;34m\u001b[0m\u001b[0m\n\u001b[0;32m----> 2\u001b[0;31m \u001b[0mspmf\u001b[0m\u001b[0;34m.\u001b[0m\u001b[0mrun\u001b[0m\u001b[0;34m(\u001b[0m\u001b[0;34m)\u001b[0m\u001b[0;34m\u001b[0m\u001b[0;34m\u001b[0m\u001b[0m\n\u001b[0m\u001b[1;32m      3\u001b[0m \u001b[0mdf\u001b[0m \u001b[0;34m=\u001b[0m \u001b[0mspmf\u001b[0m\u001b[0;34m.\u001b[0m\u001b[0mto_pandas_dataframe\u001b[0m\u001b[0;34m(\u001b[0m\u001b[0;34m)\u001b[0m\u001b[0;34m\u001b[0m\u001b[0;34m\u001b[0m\u001b[0m\n\u001b[1;32m      4\u001b[0m \u001b[0mdf\u001b[0m\u001b[0;34m\u001b[0m\u001b[0;34m\u001b[0m\u001b[0m\n",
      "\u001b[0;32m~/miniconda3/envs/ml/lib/python3.8/site-packages/spmf/__init__.py\u001b[0m in \u001b[0;36mrun\u001b[0;34m(self)\u001b[0m\n\u001b[1;32m    100\u001b[0m         \u001b[0msubprocess_arguments\u001b[0m\u001b[0;34m.\u001b[0m\u001b[0mextend\u001b[0m\u001b[0;34m(\u001b[0m\u001b[0mself\u001b[0m\u001b[0;34m.\u001b[0m\u001b[0marguments_\u001b[0m\u001b[0;34m)\u001b[0m\u001b[0;34m\u001b[0m\u001b[0;34m\u001b[0m\u001b[0m\n\u001b[1;32m    101\u001b[0m \u001b[0;34m\u001b[0m\u001b[0m\n\u001b[0;32m--> 102\u001b[0;31m         \u001b[0mproc\u001b[0m \u001b[0;34m=\u001b[0m \u001b[0msubprocess\u001b[0m\u001b[0;34m.\u001b[0m\u001b[0mcheck_output\u001b[0m\u001b[0;34m(\u001b[0m\u001b[0msubprocess_arguments\u001b[0m\u001b[0;34m)\u001b[0m\u001b[0;34m\u001b[0m\u001b[0;34m\u001b[0m\u001b[0m\n\u001b[0m\u001b[1;32m    103\u001b[0m         \u001b[0mproc_output\u001b[0m \u001b[0;34m=\u001b[0m \u001b[0mproc\u001b[0m\u001b[0;34m.\u001b[0m\u001b[0mdecode\u001b[0m\u001b[0;34m(\u001b[0m\u001b[0;34m)\u001b[0m\u001b[0;34m\u001b[0m\u001b[0;34m\u001b[0m\u001b[0m\n\u001b[1;32m    104\u001b[0m         \u001b[0mprint\u001b[0m\u001b[0;34m(\u001b[0m\u001b[0mproc_output\u001b[0m\u001b[0;34m)\u001b[0m\u001b[0;34m\u001b[0m\u001b[0;34m\u001b[0m\u001b[0m\n",
      "\u001b[0;32m~/miniconda3/envs/ml/lib/python3.8/subprocess.py\u001b[0m in \u001b[0;36mcheck_output\u001b[0;34m(timeout, *popenargs, **kwargs)\u001b[0m\n\u001b[1;32m    409\u001b[0m         \u001b[0mkwargs\u001b[0m\u001b[0;34m[\u001b[0m\u001b[0;34m'input'\u001b[0m\u001b[0;34m]\u001b[0m \u001b[0;34m=\u001b[0m \u001b[0;34m''\u001b[0m \u001b[0;32mif\u001b[0m \u001b[0mkwargs\u001b[0m\u001b[0;34m.\u001b[0m\u001b[0mget\u001b[0m\u001b[0;34m(\u001b[0m\u001b[0;34m'universal_newlines'\u001b[0m\u001b[0;34m,\u001b[0m \u001b[0;32mFalse\u001b[0m\u001b[0;34m)\u001b[0m \u001b[0;32melse\u001b[0m \u001b[0;34mb''\u001b[0m\u001b[0;34m\u001b[0m\u001b[0;34m\u001b[0m\u001b[0m\n\u001b[1;32m    410\u001b[0m \u001b[0;34m\u001b[0m\u001b[0m\n\u001b[0;32m--> 411\u001b[0;31m     return run(*popenargs, stdout=PIPE, timeout=timeout, check=True,\n\u001b[0m\u001b[1;32m    412\u001b[0m                **kwargs).stdout\n\u001b[1;32m    413\u001b[0m \u001b[0;34m\u001b[0m\u001b[0m\n",
      "\u001b[0;32m~/miniconda3/envs/ml/lib/python3.8/subprocess.py\u001b[0m in \u001b[0;36mrun\u001b[0;34m(input, capture_output, timeout, check, *popenargs, **kwargs)\u001b[0m\n\u001b[1;32m    489\u001b[0m     \u001b[0;32mwith\u001b[0m \u001b[0mPopen\u001b[0m\u001b[0;34m(\u001b[0m\u001b[0;34m*\u001b[0m\u001b[0mpopenargs\u001b[0m\u001b[0;34m,\u001b[0m \u001b[0;34m**\u001b[0m\u001b[0mkwargs\u001b[0m\u001b[0;34m)\u001b[0m \u001b[0;32mas\u001b[0m \u001b[0mprocess\u001b[0m\u001b[0;34m:\u001b[0m\u001b[0;34m\u001b[0m\u001b[0;34m\u001b[0m\u001b[0m\n\u001b[1;32m    490\u001b[0m         \u001b[0;32mtry\u001b[0m\u001b[0;34m:\u001b[0m\u001b[0;34m\u001b[0m\u001b[0;34m\u001b[0m\u001b[0m\n\u001b[0;32m--> 491\u001b[0;31m             \u001b[0mstdout\u001b[0m\u001b[0;34m,\u001b[0m \u001b[0mstderr\u001b[0m \u001b[0;34m=\u001b[0m \u001b[0mprocess\u001b[0m\u001b[0;34m.\u001b[0m\u001b[0mcommunicate\u001b[0m\u001b[0;34m(\u001b[0m\u001b[0minput\u001b[0m\u001b[0;34m,\u001b[0m \u001b[0mtimeout\u001b[0m\u001b[0;34m=\u001b[0m\u001b[0mtimeout\u001b[0m\u001b[0;34m)\u001b[0m\u001b[0;34m\u001b[0m\u001b[0;34m\u001b[0m\u001b[0m\n\u001b[0m\u001b[1;32m    492\u001b[0m         \u001b[0;32mexcept\u001b[0m \u001b[0mTimeoutExpired\u001b[0m \u001b[0;32mas\u001b[0m \u001b[0mexc\u001b[0m\u001b[0;34m:\u001b[0m\u001b[0;34m\u001b[0m\u001b[0;34m\u001b[0m\u001b[0m\n\u001b[1;32m    493\u001b[0m             \u001b[0mprocess\u001b[0m\u001b[0;34m.\u001b[0m\u001b[0mkill\u001b[0m\u001b[0;34m(\u001b[0m\u001b[0;34m)\u001b[0m\u001b[0;34m\u001b[0m\u001b[0;34m\u001b[0m\u001b[0m\n",
      "\u001b[0;32m~/miniconda3/envs/ml/lib/python3.8/subprocess.py\u001b[0m in \u001b[0;36mcommunicate\u001b[0;34m(self, input, timeout)\u001b[0m\n\u001b[1;32m   1009\u001b[0m                 \u001b[0mself\u001b[0m\u001b[0;34m.\u001b[0m\u001b[0m_stdin_write\u001b[0m\u001b[0;34m(\u001b[0m\u001b[0minput\u001b[0m\u001b[0;34m)\u001b[0m\u001b[0;34m\u001b[0m\u001b[0;34m\u001b[0m\u001b[0m\n\u001b[1;32m   1010\u001b[0m             \u001b[0;32melif\u001b[0m \u001b[0mself\u001b[0m\u001b[0;34m.\u001b[0m\u001b[0mstdout\u001b[0m\u001b[0;34m:\u001b[0m\u001b[0;34m\u001b[0m\u001b[0;34m\u001b[0m\u001b[0m\n\u001b[0;32m-> 1011\u001b[0;31m                 \u001b[0mstdout\u001b[0m \u001b[0;34m=\u001b[0m \u001b[0mself\u001b[0m\u001b[0;34m.\u001b[0m\u001b[0mstdout\u001b[0m\u001b[0;34m.\u001b[0m\u001b[0mread\u001b[0m\u001b[0;34m(\u001b[0m\u001b[0;34m)\u001b[0m\u001b[0;34m\u001b[0m\u001b[0;34m\u001b[0m\u001b[0m\n\u001b[0m\u001b[1;32m   1012\u001b[0m                 \u001b[0mself\u001b[0m\u001b[0;34m.\u001b[0m\u001b[0mstdout\u001b[0m\u001b[0;34m.\u001b[0m\u001b[0mclose\u001b[0m\u001b[0;34m(\u001b[0m\u001b[0;34m)\u001b[0m\u001b[0;34m\u001b[0m\u001b[0;34m\u001b[0m\u001b[0m\n\u001b[1;32m   1013\u001b[0m             \u001b[0;32melif\u001b[0m \u001b[0mself\u001b[0m\u001b[0;34m.\u001b[0m\u001b[0mstderr\u001b[0m\u001b[0;34m:\u001b[0m\u001b[0;34m\u001b[0m\u001b[0;34m\u001b[0m\u001b[0m\n",
      "\u001b[0;31mKeyboardInterrupt\u001b[0m: "
     ]
    }
   ],
   "source": [
    "#dataframe test\n",
    "spmf.run()\n",
    "df = spmf.to_pandas_dataframe()\n",
    "df"
   ]
  },
  {
   "cell_type": "markdown",
   "metadata": {},
   "source": [
    "## CEPB algorithm "
   ]
  },
  {
   "cell_type": "code",
   "execution_count": 11,
   "metadata": {},
   "outputs": [
    {
     "name": "stdout",
     "output_type": "stream",
     "text": [
      ">/mnt/e/DATA/uet/Statiscal data processing/Vintech_thTrong/spmf.jar\n",
      "=============  CEPB 2.42 STATISTICS =============\n",
      " Pattern count : 21\n",
      " Total time : 23 ms\n",
      " Max memory (mb) : 10.167007446289062\n",
      "===================================================\n",
      "\n",
      "\n"
     ]
    }
   ],
   "source": [
    "spmf = Spmf(\"CEPB\", input_filename=\"./test_files/example_CEPB.txt\",\n",
    "            output_filename=\"./output/output_CEPB.txt\", arguments=[2, 50, 0.1])\n",
    "spmf.run()"
   ]
  },
  {
   "cell_type": "markdown",
   "metadata": {},
   "source": [
    "## GCD_association_rules"
   ]
  },
  {
   "cell_type": "code",
   "execution_count": 40,
   "metadata": {},
   "outputs": [
    {
     "ename": "KeyboardInterrupt",
     "evalue": "",
     "output_type": "error",
     "traceback": [
      "\u001b[0;31m---------------------------------------------------------------------------\u001b[0m",
      "\u001b[0;31mKeyboardInterrupt\u001b[0m                         Traceback (most recent call last)",
      "\u001b[0;32m<ipython-input-40-98a121f6896c>\u001b[0m in \u001b[0;36m<module>\u001b[0;34m\u001b[0m\n\u001b[1;32m      1\u001b[0m spmf = Spmf(\"GCD_association_rules\", input_filename=\"./test_files/transaction.txt\",\n\u001b[1;32m      2\u001b[0m             output_filename=\"./output/output_GCD_assoRule.txt\", arguments=[0.02, 0.02, 2])\n\u001b[0;32m----> 3\u001b[0;31m \u001b[0mspmf\u001b[0m\u001b[0;34m.\u001b[0m\u001b[0mrun\u001b[0m\u001b[0;34m(\u001b[0m\u001b[0;34m)\u001b[0m\u001b[0;34m\u001b[0m\u001b[0;34m\u001b[0m\u001b[0m\n\u001b[0m",
      "\u001b[0;32m~/miniconda3/envs/ml/lib/python3.8/site-packages/spmf/__init__.py\u001b[0m in \u001b[0;36mrun\u001b[0;34m(self)\u001b[0m\n\u001b[1;32m    100\u001b[0m         \u001b[0msubprocess_arguments\u001b[0m\u001b[0;34m.\u001b[0m\u001b[0mextend\u001b[0m\u001b[0;34m(\u001b[0m\u001b[0mself\u001b[0m\u001b[0;34m.\u001b[0m\u001b[0marguments_\u001b[0m\u001b[0;34m)\u001b[0m\u001b[0;34m\u001b[0m\u001b[0;34m\u001b[0m\u001b[0m\n\u001b[1;32m    101\u001b[0m \u001b[0;34m\u001b[0m\u001b[0m\n\u001b[0;32m--> 102\u001b[0;31m         \u001b[0mproc\u001b[0m \u001b[0;34m=\u001b[0m \u001b[0msubprocess\u001b[0m\u001b[0;34m.\u001b[0m\u001b[0mcheck_output\u001b[0m\u001b[0;34m(\u001b[0m\u001b[0msubprocess_arguments\u001b[0m\u001b[0;34m)\u001b[0m\u001b[0;34m\u001b[0m\u001b[0;34m\u001b[0m\u001b[0m\n\u001b[0m\u001b[1;32m    103\u001b[0m         \u001b[0mproc_output\u001b[0m \u001b[0;34m=\u001b[0m \u001b[0mproc\u001b[0m\u001b[0;34m.\u001b[0m\u001b[0mdecode\u001b[0m\u001b[0;34m(\u001b[0m\u001b[0;34m)\u001b[0m\u001b[0;34m\u001b[0m\u001b[0;34m\u001b[0m\u001b[0m\n\u001b[1;32m    104\u001b[0m         \u001b[0mprint\u001b[0m\u001b[0;34m(\u001b[0m\u001b[0mproc_output\u001b[0m\u001b[0;34m)\u001b[0m\u001b[0;34m\u001b[0m\u001b[0;34m\u001b[0m\u001b[0m\n",
      "\u001b[0;32m~/miniconda3/envs/ml/lib/python3.8/subprocess.py\u001b[0m in \u001b[0;36mcheck_output\u001b[0;34m(timeout, *popenargs, **kwargs)\u001b[0m\n\u001b[1;32m    409\u001b[0m         \u001b[0mkwargs\u001b[0m\u001b[0;34m[\u001b[0m\u001b[0;34m'input'\u001b[0m\u001b[0;34m]\u001b[0m \u001b[0;34m=\u001b[0m \u001b[0;34m''\u001b[0m \u001b[0;32mif\u001b[0m \u001b[0mkwargs\u001b[0m\u001b[0;34m.\u001b[0m\u001b[0mget\u001b[0m\u001b[0;34m(\u001b[0m\u001b[0;34m'universal_newlines'\u001b[0m\u001b[0;34m,\u001b[0m \u001b[0;32mFalse\u001b[0m\u001b[0;34m)\u001b[0m \u001b[0;32melse\u001b[0m \u001b[0;34mb''\u001b[0m\u001b[0;34m\u001b[0m\u001b[0;34m\u001b[0m\u001b[0m\n\u001b[1;32m    410\u001b[0m \u001b[0;34m\u001b[0m\u001b[0m\n\u001b[0;32m--> 411\u001b[0;31m     return run(*popenargs, stdout=PIPE, timeout=timeout, check=True,\n\u001b[0m\u001b[1;32m    412\u001b[0m                **kwargs).stdout\n\u001b[1;32m    413\u001b[0m \u001b[0;34m\u001b[0m\u001b[0m\n",
      "\u001b[0;32m~/miniconda3/envs/ml/lib/python3.8/subprocess.py\u001b[0m in \u001b[0;36mrun\u001b[0;34m(input, capture_output, timeout, check, *popenargs, **kwargs)\u001b[0m\n\u001b[1;32m    489\u001b[0m     \u001b[0;32mwith\u001b[0m \u001b[0mPopen\u001b[0m\u001b[0;34m(\u001b[0m\u001b[0;34m*\u001b[0m\u001b[0mpopenargs\u001b[0m\u001b[0;34m,\u001b[0m \u001b[0;34m**\u001b[0m\u001b[0mkwargs\u001b[0m\u001b[0;34m)\u001b[0m \u001b[0;32mas\u001b[0m \u001b[0mprocess\u001b[0m\u001b[0;34m:\u001b[0m\u001b[0;34m\u001b[0m\u001b[0;34m\u001b[0m\u001b[0m\n\u001b[1;32m    490\u001b[0m         \u001b[0;32mtry\u001b[0m\u001b[0;34m:\u001b[0m\u001b[0;34m\u001b[0m\u001b[0;34m\u001b[0m\u001b[0m\n\u001b[0;32m--> 491\u001b[0;31m             \u001b[0mstdout\u001b[0m\u001b[0;34m,\u001b[0m \u001b[0mstderr\u001b[0m \u001b[0;34m=\u001b[0m \u001b[0mprocess\u001b[0m\u001b[0;34m.\u001b[0m\u001b[0mcommunicate\u001b[0m\u001b[0;34m(\u001b[0m\u001b[0minput\u001b[0m\u001b[0;34m,\u001b[0m \u001b[0mtimeout\u001b[0m\u001b[0;34m=\u001b[0m\u001b[0mtimeout\u001b[0m\u001b[0;34m)\u001b[0m\u001b[0;34m\u001b[0m\u001b[0;34m\u001b[0m\u001b[0m\n\u001b[0m\u001b[1;32m    492\u001b[0m         \u001b[0;32mexcept\u001b[0m \u001b[0mTimeoutExpired\u001b[0m \u001b[0;32mas\u001b[0m \u001b[0mexc\u001b[0m\u001b[0;34m:\u001b[0m\u001b[0;34m\u001b[0m\u001b[0;34m\u001b[0m\u001b[0m\n\u001b[1;32m    493\u001b[0m             \u001b[0mprocess\u001b[0m\u001b[0;34m.\u001b[0m\u001b[0mkill\u001b[0m\u001b[0;34m(\u001b[0m\u001b[0;34m)\u001b[0m\u001b[0;34m\u001b[0m\u001b[0;34m\u001b[0m\u001b[0m\n",
      "\u001b[0;32m~/miniconda3/envs/ml/lib/python3.8/subprocess.py\u001b[0m in \u001b[0;36mcommunicate\u001b[0;34m(self, input, timeout)\u001b[0m\n\u001b[1;32m   1009\u001b[0m                 \u001b[0mself\u001b[0m\u001b[0;34m.\u001b[0m\u001b[0m_stdin_write\u001b[0m\u001b[0;34m(\u001b[0m\u001b[0minput\u001b[0m\u001b[0;34m)\u001b[0m\u001b[0;34m\u001b[0m\u001b[0;34m\u001b[0m\u001b[0m\n\u001b[1;32m   1010\u001b[0m             \u001b[0;32melif\u001b[0m \u001b[0mself\u001b[0m\u001b[0;34m.\u001b[0m\u001b[0mstdout\u001b[0m\u001b[0;34m:\u001b[0m\u001b[0;34m\u001b[0m\u001b[0;34m\u001b[0m\u001b[0m\n\u001b[0;32m-> 1011\u001b[0;31m                 \u001b[0mstdout\u001b[0m \u001b[0;34m=\u001b[0m \u001b[0mself\u001b[0m\u001b[0;34m.\u001b[0m\u001b[0mstdout\u001b[0m\u001b[0;34m.\u001b[0m\u001b[0mread\u001b[0m\u001b[0;34m(\u001b[0m\u001b[0;34m)\u001b[0m\u001b[0;34m\u001b[0m\u001b[0;34m\u001b[0m\u001b[0m\n\u001b[0m\u001b[1;32m   1012\u001b[0m                 \u001b[0mself\u001b[0m\u001b[0;34m.\u001b[0m\u001b[0mstdout\u001b[0m\u001b[0;34m.\u001b[0m\u001b[0mclose\u001b[0m\u001b[0;34m(\u001b[0m\u001b[0;34m)\u001b[0m\u001b[0;34m\u001b[0m\u001b[0;34m\u001b[0m\u001b[0m\n\u001b[1;32m   1013\u001b[0m             \u001b[0;32melif\u001b[0m \u001b[0mself\u001b[0m\u001b[0;34m.\u001b[0m\u001b[0mstderr\u001b[0m\u001b[0;34m:\u001b[0m\u001b[0;34m\u001b[0m\u001b[0;34m\u001b[0m\u001b[0m\n",
      "\u001b[0;31mKeyboardInterrupt\u001b[0m: "
     ]
    }
   ],
   "source": [
    "spmf = Spmf(\"GCD_association_rules\", input_filename=\"./test_files/transaction.txt\",\n",
    "            output_filename=\"./output/output_GCD_assoRule.txt\", arguments=[0.02, 0.02, 2])\n",
    "spmf.run()"
   ]
  },
  {
   "cell_type": "markdown",
   "metadata": {},
   "source": [
    "## Closed_association_rules"
   ]
  },
  {
   "cell_type": "code",
   "execution_count": 46,
   "metadata": {},
   "outputs": [
    {
     "name": "stdout",
     "output_type": "stream",
     "text": [
      ">/mnt/e/DATA/uet/Statiscal data processing/Vintech_thTrong/spmf.jar\n",
      "=============  CHARM v96r6 Bitset - STATS =============\n",
      " Transactions count from database : 5\n",
      " Frequent closed itemsets count : 6\n",
      " Total time ~ 3 ms\n",
      " Maximum memory usage : 10.167007446289062 mb\n",
      "===================================================\n",
      "=============  ASSOCIATION RULE GENERATION v2.19- STATS =============\n",
      " Number of association rules generated : 16\n",
      " Total time ~ 1 ms\n",
      "===================================================\n",
      "\n"
     ]
    }
   ],
   "source": [
    "spmf = Spmf(\"Closed_association_rules\", input_filename=\"./test_files/contextZart.txt\",\n",
    "            output_filename=\"./output/output_Closed_assRule.txt\", arguments=[0.5, 0.5])\n",
    "spmf.run()"
   ]
  },
  {
   "cell_type": "markdown",
   "metadata": {},
   "source": [
    "##  INDIRECT algorithm"
   ]
  },
  {
   "cell_type": "code",
   "execution_count": 87,
   "metadata": {},
   "outputs": [
    {
     "name": "stdout",
     "output_type": "stream",
     "text": [
      ">/mnt/e/DATA/uet/Statiscal data processing/Vintech_thTrong/spmf.jar\n",
      "=============  INDIRECT RULES GENERATION - STATS =============\n",
      " Transactions count from database : 22190\n",
      " Indirect rule count : 675\n",
      " Total time ~ 1872 ms\n",
      "===================================================\n",
      "\n"
     ]
    }
   ],
   "source": [
    "spmf = Spmf(\"Indirect_association_rules\", input_filename=\"./test_files/transaction.txt\",\n",
    "            output_filename=\"./output/output_Indirect.txt\", arguments=[0.01, 0.7, 0.05])\n",
    "spmf.run()"
   ]
  },
  {
   "cell_type": "code",
   "execution_count": 88,
   "metadata": {},
   "outputs": [
    {
     "name": "stdout",
     "output_type": "stream",
     "text": [
      ">/mnt/e/DATA/uet/Statiscal data processing/Vintech_thTrong/spmf.jar\n",
      "=============  INDIRECT RULES GENERATION - STATS =============\n",
      " Transactions count from database : 22190\n",
      " Indirect rule count : 675\n",
      " Total time ~ 2004 ms\n",
      "===================================================\n",
      "Post-processing to show result in terms of string values.\n",
      "Post-processing completed.\n",
      "\n"
     ]
    }
   ],
   "source": [
    "# with label\n",
    "spmf = Spmf(\"Indirect_association_rules\", input_filename=\"./test_files/transaction_label.txt\",\n",
    "            output_filename=\"./output/output_IndirectLabel.txt\", arguments=[0.01, 0.7, 0.05])\n",
    "spmf.run()"
   ]
  }
 ],
 "metadata": {
  "kernelspec": {
   "display_name": "Python 3",
   "language": "python",
   "name": "python3"
  },
  "language_info": {
   "codemirror_mode": {
    "name": "ipython",
    "version": 3
   },
   "file_extension": ".py",
   "mimetype": "text/x-python",
   "name": "python",
   "nbconvert_exporter": "python",
   "pygments_lexer": "ipython3",
   "version": "3.8.5"
  }
 },
 "nbformat": 4,
 "nbformat_minor": 4
}
